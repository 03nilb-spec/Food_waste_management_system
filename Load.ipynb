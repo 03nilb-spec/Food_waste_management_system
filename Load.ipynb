{
 "cells": [
  {
   "cell_type": "code",
   "execution_count": 1,
   "id": "a8817022-2af7-4966-854f-479e6253d104",
   "metadata": {},
   "outputs": [],
   "source": [
    "import mysql.connector\n",
    "import pandas as pd "
   ]
  },
  {
   "cell_type": "code",
   "execution_count": 2,
   "id": "17f8c845-8e19-46ba-aa39-699b195d98f1",
   "metadata": {},
   "outputs": [],
   "source": [
    "# Connect to mysql\n",
    "connect = mysql.connector.connect(\n",
    "    host='localhost',\n",
    "    user='root',\n",
    "    password='1234',\n",
    "    database='food_wastage'\n",
    ")"
   ]
  },
  {
   "cell_type": "code",
   "execution_count": 3,
   "id": "b46c4632-26d6-4ee3-a826-c646ba3f71ec",
   "metadata": {},
   "outputs": [],
   "source": [
    "cursor = connect.cursor()"
   ]
  },
  {
   "cell_type": "code",
   "execution_count": 4,
   "id": "e370484d-e46d-40e9-9e26-586e90e7a497",
   "metadata": {},
   "outputs": [],
   "source": [
    "# Loading CSV\n",
    "providers = pd.read_csv('Providers_data_Pre.csv')\n",
    "receiver = pd.read_csv('Receivers_data_Pre.csv')\n",
    "food_listings = pd.read_csv('food_listing_pre.csv')\n",
    "claim_data = pd.read_csv('Claim_data_Pre.csv')"
   ]
  },
  {
   "cell_type": "code",
   "execution_count": 5,
   "id": "9580047a-b7b0-4715-8677-cfe4bfed8a17",
   "metadata": {},
   "outputs": [
    {
     "name": "stdout",
     "output_type": "stream",
     "text": [
      "Data loaded successfully into MySQL!\n"
     ]
    }
   ],
   "source": [
    "import mysql.connector\n",
    "import pandas as pd\n",
    "\n",
    "# Connect to MySQL\n",
    "conn = mysql.connector.connect(\n",
    "    host=\"localhost\",   # or \"127.0.0.1\"\n",
    "    user=\"root\",        # replace with your MySQL username\n",
    "    password=\"1234\",\n",
    "    database=\"food_wastage\"\n",
    ")\n",
    "cursor = conn.cursor()\n",
    "\n",
    "# Load CSVs\n",
    "providers = pd.read_csv('Providers_data_Pre.csv')\n",
    "receivers = pd.read_csv('Receivers_data_Pre.csv')\n",
    "food_listings = pd.read_csv('food_listing_pre.csv')\n",
    "claims = pd.read_csv('Claim_data_Pre.csv')\n",
    "\n",
    "# Insert Data\n",
    "for _, row in providers.iterrows():\n",
    "    cursor.execute(\"\"\"\n",
    "        INSERT INTO providers VALUES (%s, %s, %s, %s, %s, %s)\n",
    "    \"\"\", tuple(row))\n",
    "\n",
    "for _, row in receivers.iterrows():\n",
    "    cursor.execute(\"\"\"\n",
    "        INSERT INTO receiver VALUES (%s, %s, %s, %s, %s)\n",
    "    \"\"\", tuple(row))\n",
    "\n",
    "for _, row in food_listings.iterrows():\n",
    "    cursor.execute(\"\"\"\n",
    "        INSERT INTO food_listings VALUES (%s, %s, %s, %s, %s, %s, %s, %s, %s)\n",
    "    \"\"\", tuple(row))\n",
    "\n",
    "for _, row in claims.iterrows():\n",
    "    cursor.execute(\"\"\"\n",
    "        INSERT INTO claim_data VALUES (%s, %s, %s, %s, %s)\n",
    "    \"\"\", tuple(row))\n",
    "\n",
    "# Commit changes\n",
    "conn.commit()\n",
    "\n",
    "# Close connection\n",
    "cursor.close()\n",
    "conn.close()\n",
    "\n",
    "print(\"Data loaded successfully into MySQL!\")"
   ]
  },
  {
   "cell_type": "code",
   "execution_count": 6,
   "id": "45074b5a-6ab7-41c1-b059-15ab9aa4d6f4",
   "metadata": {},
   "outputs": [],
   "source": [
    "cursor.close()\n",
    "conn.close()"
   ]
  }
 ],
 "metadata": {
  "kernelspec": {
   "display_name": "Python (py310)",
   "language": "python",
   "name": "py310"
  },
  "language_info": {
   "codemirror_mode": {
    "name": "ipython",
    "version": 3
   },
   "file_extension": ".py",
   "mimetype": "text/x-python",
   "name": "python",
   "nbconvert_exporter": "python",
   "pygments_lexer": "ipython3",
   "version": "3.10.18"
  }
 },
 "nbformat": 4,
 "nbformat_minor": 5
}
