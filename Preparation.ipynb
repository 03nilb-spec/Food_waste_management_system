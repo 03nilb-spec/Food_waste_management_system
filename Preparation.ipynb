{
 "cells": [
  {
   "cell_type": "markdown",
   "id": "7251b75a-7daa-4871-8ba0-e3d561602f5c",
   "metadata": {
    "jp-MarkdownHeadingCollapsed": true
   },
   "source": [
    "# Project - Local Food Wastage management system"
   ]
  },
  {
   "cell_type": "markdown",
   "id": "b400c39c-a77f-4e2c-b66a-f039c0f5e4f2",
   "metadata": {},
   "source": [
    "## Name - Nilesh Bahirgaonkar "
   ]
  },
  {
   "cell_type": "code",
   "execution_count": null,
   "id": "a73a6a11-064e-4779-9882-b0cb062bd46d",
   "metadata": {},
   "outputs": [],
   "source": []
  },
  {
   "cell_type": "markdown",
   "id": "379f278f-df85-4ea8-91c6-df0ffbe0107c",
   "metadata": {},
   "source": [
    "# Data Preparation"
   ]
  },
  {
   "cell_type": "markdown",
   "id": "19ffe5fe-fb4e-484b-bb1e-b46f725eee58",
   "metadata": {
    "jp-MarkdownHeadingCollapsed": true
   },
   "source": [
    "## Importing Libraries "
   ]
  },
  {
   "cell_type": "code",
   "execution_count": 1,
   "id": "b5c8c507-8f54-45ec-bf70-7b21d1d7d5ef",
   "metadata": {},
   "outputs": [],
   "source": [
    "import pandas as pd "
   ]
  },
  {
   "cell_type": "markdown",
   "id": "60b19df5-e637-4a4d-9a15-1e3d50d531c8",
   "metadata": {},
   "source": [
    "## For Claim Data "
   ]
  },
  {
   "cell_type": "code",
   "execution_count": 2,
   "id": "b708d9df-3199-499a-8769-512fa6972d9b",
   "metadata": {},
   "outputs": [],
   "source": [
    "claim_data = pd.read_csv('claims_data.csv')     # Loading the csv file "
   ]
  },
  {
   "cell_type": "code",
   "execution_count": 3,
   "id": "56bfdb8a-8c18-4622-8175-f70364f4322b",
   "metadata": {},
   "outputs": [
    {
     "data": {
      "text/html": [
       "<div>\n",
       "<style scoped>\n",
       "    .dataframe tbody tr th:only-of-type {\n",
       "        vertical-align: middle;\n",
       "    }\n",
       "\n",
       "    .dataframe tbody tr th {\n",
       "        vertical-align: top;\n",
       "    }\n",
       "\n",
       "    .dataframe thead th {\n",
       "        text-align: right;\n",
       "    }\n",
       "</style>\n",
       "<table border=\"1\" class=\"dataframe\">\n",
       "  <thead>\n",
       "    <tr style=\"text-align: right;\">\n",
       "      <th></th>\n",
       "      <th>Claim_ID</th>\n",
       "      <th>Food_ID</th>\n",
       "      <th>Receiver_ID</th>\n",
       "      <th>Status</th>\n",
       "      <th>Timestamp</th>\n",
       "    </tr>\n",
       "  </thead>\n",
       "  <tbody>\n",
       "    <tr>\n",
       "      <th>0</th>\n",
       "      <td>1</td>\n",
       "      <td>164</td>\n",
       "      <td>908</td>\n",
       "      <td>Pending</td>\n",
       "      <td>3/5/2025 5:26</td>\n",
       "    </tr>\n",
       "    <tr>\n",
       "      <th>1</th>\n",
       "      <td>2</td>\n",
       "      <td>353</td>\n",
       "      <td>391</td>\n",
       "      <td>Cancelled</td>\n",
       "      <td>3/11/2025 10:24</td>\n",
       "    </tr>\n",
       "    <tr>\n",
       "      <th>2</th>\n",
       "      <td>3</td>\n",
       "      <td>626</td>\n",
       "      <td>492</td>\n",
       "      <td>Completed</td>\n",
       "      <td>3/21/2025 0:59</td>\n",
       "    </tr>\n",
       "    <tr>\n",
       "      <th>3</th>\n",
       "      <td>4</td>\n",
       "      <td>61</td>\n",
       "      <td>933</td>\n",
       "      <td>Cancelled</td>\n",
       "      <td>3/4/2025 9:08</td>\n",
       "    </tr>\n",
       "    <tr>\n",
       "      <th>4</th>\n",
       "      <td>5</td>\n",
       "      <td>345</td>\n",
       "      <td>229</td>\n",
       "      <td>Pending</td>\n",
       "      <td>3/14/2025 15:17</td>\n",
       "    </tr>\n",
       "  </tbody>\n",
       "</table>\n",
       "</div>"
      ],
      "text/plain": [
       "   Claim_ID  Food_ID  Receiver_ID     Status        Timestamp\n",
       "0         1      164          908    Pending    3/5/2025 5:26\n",
       "1         2      353          391  Cancelled  3/11/2025 10:24\n",
       "2         3      626          492  Completed   3/21/2025 0:59\n",
       "3         4       61          933  Cancelled    3/4/2025 9:08\n",
       "4         5      345          229    Pending  3/14/2025 15:17"
      ]
     },
     "execution_count": 3,
     "metadata": {},
     "output_type": "execute_result"
    }
   ],
   "source": [
    "claim_data.head()      # first view of the dataset"
   ]
  },
  {
   "cell_type": "code",
   "execution_count": 4,
   "id": "7d93650c-28ba-4321-a267-3534c442b9d3",
   "metadata": {},
   "outputs": [
    {
     "name": "stdout",
     "output_type": "stream",
     "text": [
      "<class 'pandas.core.frame.DataFrame'>\n",
      "RangeIndex: 1000 entries, 0 to 999\n",
      "Data columns (total 5 columns):\n",
      " #   Column       Non-Null Count  Dtype \n",
      "---  ------       --------------  ----- \n",
      " 0   Claim_ID     1000 non-null   int64 \n",
      " 1   Food_ID      1000 non-null   int64 \n",
      " 2   Receiver_ID  1000 non-null   int64 \n",
      " 3   Status       1000 non-null   object\n",
      " 4   Timestamp    1000 non-null   object\n",
      "dtypes: int64(3), object(2)\n",
      "memory usage: 39.2+ KB\n"
     ]
    }
   ],
   "source": [
    "claim_data.info()     # Info of dataset "
   ]
  },
  {
   "cell_type": "code",
   "execution_count": 5,
   "id": "8fb89558-02a4-43b8-ba51-294aafcf2077",
   "metadata": {},
   "outputs": [],
   "source": [
    "# We can see that, the timestamp is in object datatype and it should be in datetime. So converting it  "
   ]
  },
  {
   "cell_type": "code",
   "execution_count": 6,
   "id": "b5a7da2c-8551-4886-80df-b0597422bb0b",
   "metadata": {},
   "outputs": [],
   "source": [
    "from datetime import datetime"
   ]
  },
  {
   "cell_type": "code",
   "execution_count": 7,
   "id": "e8e6a9c8-0bb8-4b2e-a02b-19f773d478be",
   "metadata": {},
   "outputs": [],
   "source": [
    "claim_data['Timestamp'] = pd.to_datetime(claim_data['Timestamp'])"
   ]
  },
  {
   "cell_type": "code",
   "execution_count": 8,
   "id": "3d13d82e-865f-4723-86e0-cd1743c65d72",
   "metadata": {},
   "outputs": [],
   "source": [
    "# Now let's check for missing values and duplicate ID's"
   ]
  },
  {
   "cell_type": "code",
   "execution_count": 9,
   "id": "e6730b1b-10aa-49c4-b2ce-b2f6b3d2a5ac",
   "metadata": {},
   "outputs": [
    {
     "data": {
      "text/plain": [
       "Claim_ID       0\n",
       "Food_ID        0\n",
       "Receiver_ID    0\n",
       "Status         0\n",
       "Timestamp      0\n",
       "dtype: int64"
      ]
     },
     "execution_count": 9,
     "metadata": {},
     "output_type": "execute_result"
    }
   ],
   "source": [
    "claim_data.isnull().sum()"
   ]
  },
  {
   "cell_type": "code",
   "execution_count": 10,
   "id": "55bfaaf5-5b4c-43a8-a7cd-cfcc7c382077",
   "metadata": {},
   "outputs": [],
   "source": [
    "# No missing values "
   ]
  },
  {
   "cell_type": "code",
   "execution_count": 11,
   "id": "5427e905-7860-4f0b-9b7b-ca2b9c84c098",
   "metadata": {},
   "outputs": [
    {
     "data": {
      "text/plain": [
       "0"
      ]
     },
     "execution_count": 11,
     "metadata": {},
     "output_type": "execute_result"
    }
   ],
   "source": [
    "claim_data['Claim_ID'].duplicated().sum()"
   ]
  },
  {
   "cell_type": "code",
   "execution_count": 12,
   "id": "162a3df4-122e-4aff-bffb-75411fe81747",
   "metadata": {},
   "outputs": [
    {
     "data": {
      "text/plain": [
       "353"
      ]
     },
     "execution_count": 12,
     "metadata": {},
     "output_type": "execute_result"
    }
   ],
   "source": [
    "claim_data['Food_ID'].duplicated().sum()"
   ]
  },
  {
   "cell_type": "code",
   "execution_count": 13,
   "id": "208420e7-194c-462d-ab2b-7d32eedc7d50",
   "metadata": {},
   "outputs": [
    {
     "data": {
      "text/plain": [
       "376"
      ]
     },
     "execution_count": 13,
     "metadata": {},
     "output_type": "execute_result"
    }
   ],
   "source": [
    "claim_data['Receiver_ID'].duplicated().sum()"
   ]
  },
  {
   "cell_type": "code",
   "execution_count": 14,
   "id": "b880cb94-76e6-4f49-a84d-58ff8c55b07d",
   "metadata": {},
   "outputs": [],
   "source": [
    "# We see that there are 353 duplicate values in Food_ID, but the food is repeated so no need to worry about it.\n",
    "# Also we see that Receiver_ID also has 376 duplicate values, again no need to varry about it, \n",
    "# Claim_ID is important and it has unique ID's."
   ]
  },
  {
   "cell_type": "code",
   "execution_count": 15,
   "id": "a8b86fd2-8050-4fb0-aa93-b98212d59c31",
   "metadata": {},
   "outputs": [],
   "source": [
    "# Saving it in csv format "
   ]
  },
  {
   "cell_type": "code",
   "execution_count": 16,
   "id": "ccf3e629-b1e8-44f0-8a86-f9a573663370",
   "metadata": {},
   "outputs": [],
   "source": [
    "claim_data.to_csv('Claim_data_Pre.csv',index=False)"
   ]
  },
  {
   "cell_type": "markdown",
   "id": "f6aaaccb-5ef6-4c25-b469-8ea947e0fec2",
   "metadata": {},
   "source": [
    "## For Food Listings data "
   ]
  },
  {
   "cell_type": "code",
   "execution_count": 17,
   "id": "e0a74a82-fada-4d2d-bc7f-3e2d1ae57d25",
   "metadata": {},
   "outputs": [],
   "source": [
    "fld = pd.read_csv('food_listings_data.csv',index_col=False)     # loading the data"
   ]
  },
  {
   "cell_type": "code",
   "execution_count": 18,
   "id": "2ac10fb8-5d4b-4786-9d48-f580bc9d789a",
   "metadata": {},
   "outputs": [
    {
     "data": {
      "text/html": [
       "<div>\n",
       "<style scoped>\n",
       "    .dataframe tbody tr th:only-of-type {\n",
       "        vertical-align: middle;\n",
       "    }\n",
       "\n",
       "    .dataframe tbody tr th {\n",
       "        vertical-align: top;\n",
       "    }\n",
       "\n",
       "    .dataframe thead th {\n",
       "        text-align: right;\n",
       "    }\n",
       "</style>\n",
       "<table border=\"1\" class=\"dataframe\">\n",
       "  <thead>\n",
       "    <tr style=\"text-align: right;\">\n",
       "      <th></th>\n",
       "      <th>Food_ID</th>\n",
       "      <th>Food_Name</th>\n",
       "      <th>Quantity</th>\n",
       "      <th>Expiry_Date</th>\n",
       "      <th>Provider_ID</th>\n",
       "      <th>Provider_Type</th>\n",
       "      <th>Location</th>\n",
       "      <th>Food_Type</th>\n",
       "      <th>Meal_Type</th>\n",
       "    </tr>\n",
       "  </thead>\n",
       "  <tbody>\n",
       "    <tr>\n",
       "      <th>0</th>\n",
       "      <td>1</td>\n",
       "      <td>Bread</td>\n",
       "      <td>43</td>\n",
       "      <td>3/17/2025</td>\n",
       "      <td>110</td>\n",
       "      <td>Grocery Store</td>\n",
       "      <td>South Kellyville</td>\n",
       "      <td>Non-Vegetarian</td>\n",
       "      <td>Breakfast</td>\n",
       "    </tr>\n",
       "    <tr>\n",
       "      <th>1</th>\n",
       "      <td>2</td>\n",
       "      <td>Soup</td>\n",
       "      <td>22</td>\n",
       "      <td>3/24/2025</td>\n",
       "      <td>791</td>\n",
       "      <td>Grocery Store</td>\n",
       "      <td>West James</td>\n",
       "      <td>Non-Vegetarian</td>\n",
       "      <td>Dinner</td>\n",
       "    </tr>\n",
       "    <tr>\n",
       "      <th>2</th>\n",
       "      <td>3</td>\n",
       "      <td>Fruits</td>\n",
       "      <td>46</td>\n",
       "      <td>3/28/2025</td>\n",
       "      <td>478</td>\n",
       "      <td>Catering Service</td>\n",
       "      <td>Lake Regina</td>\n",
       "      <td>Vegan</td>\n",
       "      <td>Breakfast</td>\n",
       "    </tr>\n",
       "    <tr>\n",
       "      <th>3</th>\n",
       "      <td>4</td>\n",
       "      <td>Fruits</td>\n",
       "      <td>15</td>\n",
       "      <td>3/16/2025</td>\n",
       "      <td>930</td>\n",
       "      <td>Restaurant</td>\n",
       "      <td>Kellytown</td>\n",
       "      <td>Vegan</td>\n",
       "      <td>Lunch</td>\n",
       "    </tr>\n",
       "    <tr>\n",
       "      <th>4</th>\n",
       "      <td>5</td>\n",
       "      <td>Soup</td>\n",
       "      <td>14</td>\n",
       "      <td>3/19/2025</td>\n",
       "      <td>279</td>\n",
       "      <td>Restaurant</td>\n",
       "      <td>Garciaport</td>\n",
       "      <td>Vegan</td>\n",
       "      <td>Dinner</td>\n",
       "    </tr>\n",
       "  </tbody>\n",
       "</table>\n",
       "</div>"
      ],
      "text/plain": [
       "   Food_ID Food_Name  Quantity Expiry_Date  Provider_ID     Provider_Type  \\\n",
       "0        1     Bread        43   3/17/2025          110     Grocery Store   \n",
       "1        2      Soup        22   3/24/2025          791     Grocery Store   \n",
       "2        3    Fruits        46   3/28/2025          478  Catering Service   \n",
       "3        4    Fruits        15   3/16/2025          930        Restaurant   \n",
       "4        5      Soup        14   3/19/2025          279        Restaurant   \n",
       "\n",
       "           Location       Food_Type  Meal_Type  \n",
       "0  South Kellyville  Non-Vegetarian  Breakfast  \n",
       "1        West James  Non-Vegetarian     Dinner  \n",
       "2       Lake Regina           Vegan  Breakfast  \n",
       "3         Kellytown           Vegan      Lunch  \n",
       "4        Garciaport           Vegan     Dinner  "
      ]
     },
     "execution_count": 18,
     "metadata": {},
     "output_type": "execute_result"
    }
   ],
   "source": [
    "fld.head()     # first view of data"
   ]
  },
  {
   "cell_type": "code",
   "execution_count": 19,
   "id": "7c916561-ae62-41e8-89d8-8d0961d7f5ff",
   "metadata": {},
   "outputs": [
    {
     "name": "stdout",
     "output_type": "stream",
     "text": [
      "<class 'pandas.core.frame.DataFrame'>\n",
      "RangeIndex: 1000 entries, 0 to 999\n",
      "Data columns (total 9 columns):\n",
      " #   Column         Non-Null Count  Dtype \n",
      "---  ------         --------------  ----- \n",
      " 0   Food_ID        1000 non-null   int64 \n",
      " 1   Food_Name      1000 non-null   object\n",
      " 2   Quantity       1000 non-null   int64 \n",
      " 3   Expiry_Date    1000 non-null   object\n",
      " 4   Provider_ID    1000 non-null   int64 \n",
      " 5   Provider_Type  1000 non-null   object\n",
      " 6   Location       1000 non-null   object\n",
      " 7   Food_Type      1000 non-null   object\n",
      " 8   Meal_Type      1000 non-null   object\n",
      "dtypes: int64(3), object(6)\n",
      "memory usage: 70.4+ KB\n"
     ]
    }
   ],
   "source": [
    "fld.info()    # Dataset info "
   ]
  },
  {
   "cell_type": "code",
   "execution_count": 20,
   "id": "0859307d-9714-475d-bd75-4bcd0037f586",
   "metadata": {},
   "outputs": [],
   "source": [
    "# Converting Expiry_Date to datetime"
   ]
  },
  {
   "cell_type": "code",
   "execution_count": 21,
   "id": "1f750541-bc0e-4aeb-8e43-ab1f79cc5cae",
   "metadata": {},
   "outputs": [],
   "source": [
    "fld['Expiry_Date'] = pd.to_datetime(fld['Expiry_Date'])"
   ]
  },
  {
   "cell_type": "code",
   "execution_count": 22,
   "id": "7e13cedd-9938-4307-a5c1-2b14fed7bf2d",
   "metadata": {},
   "outputs": [],
   "source": [
    "# Now let's check for missing values and duplicate ID's"
   ]
  },
  {
   "cell_type": "code",
   "execution_count": 23,
   "id": "034e14e1-dfa8-4d54-929d-76d0f1ed5a15",
   "metadata": {},
   "outputs": [
    {
     "data": {
      "text/plain": [
       "Food_ID          0\n",
       "Food_Name        0\n",
       "Quantity         0\n",
       "Expiry_Date      0\n",
       "Provider_ID      0\n",
       "Provider_Type    0\n",
       "Location         0\n",
       "Food_Type        0\n",
       "Meal_Type        0\n",
       "dtype: int64"
      ]
     },
     "execution_count": 23,
     "metadata": {},
     "output_type": "execute_result"
    }
   ],
   "source": [
    "fld.isnull().sum()"
   ]
  },
  {
   "cell_type": "code",
   "execution_count": 24,
   "id": "2229141e-bdac-45e6-991b-5279a3c8152f",
   "metadata": {},
   "outputs": [],
   "source": [
    "# No Null values"
   ]
  },
  {
   "cell_type": "code",
   "execution_count": 25,
   "id": "eaabe481-463f-4274-9234-f6429b079d7c",
   "metadata": {},
   "outputs": [],
   "source": [
    "# Checking for duplicate values "
   ]
  },
  {
   "cell_type": "code",
   "execution_count": 26,
   "id": "7df5d3d7-da50-4244-a064-178cd04d2e4f",
   "metadata": {},
   "outputs": [
    {
     "data": {
      "text/plain": [
       "0"
      ]
     },
     "execution_count": 26,
     "metadata": {},
     "output_type": "execute_result"
    }
   ],
   "source": [
    "fld.duplicated().sum()"
   ]
  },
  {
   "cell_type": "code",
   "execution_count": 27,
   "id": "2c63e1bb-8ce5-40b0-80e5-43fca45feabe",
   "metadata": {},
   "outputs": [],
   "source": [
    "# No Duplicates "
   ]
  },
  {
   "cell_type": "code",
   "execution_count": 28,
   "id": "f4371595-b4e6-4597-ad4d-0c346488c9fb",
   "metadata": {},
   "outputs": [],
   "source": [
    "# Saving it in csv format"
   ]
  },
  {
   "cell_type": "code",
   "execution_count": 29,
   "id": "4eafa83e-1dfb-43fe-a4e7-88ff49ee025d",
   "metadata": {},
   "outputs": [],
   "source": [
    "fld.to_csv('food_listing_pre.csv',index=False)"
   ]
  },
  {
   "cell_type": "markdown",
   "id": "279aa815-d872-4156-b195-ca6bf15e5f7f",
   "metadata": {},
   "source": [
    "## For Providers data"
   ]
  },
  {
   "cell_type": "code",
   "execution_count": 30,
   "id": "1076b0e0-299e-47c5-83c5-dfd05ef605e4",
   "metadata": {},
   "outputs": [],
   "source": [
    "psd = pd.read_csv('providers_data.csv')"
   ]
  },
  {
   "cell_type": "code",
   "execution_count": 31,
   "id": "44982015-b6d9-4f09-b390-09912bb1a582",
   "metadata": {},
   "outputs": [
    {
     "data": {
      "text/html": [
       "<div>\n",
       "<style scoped>\n",
       "    .dataframe tbody tr th:only-of-type {\n",
       "        vertical-align: middle;\n",
       "    }\n",
       "\n",
       "    .dataframe tbody tr th {\n",
       "        vertical-align: top;\n",
       "    }\n",
       "\n",
       "    .dataframe thead th {\n",
       "        text-align: right;\n",
       "    }\n",
       "</style>\n",
       "<table border=\"1\" class=\"dataframe\">\n",
       "  <thead>\n",
       "    <tr style=\"text-align: right;\">\n",
       "      <th></th>\n",
       "      <th>Provider_ID</th>\n",
       "      <th>Name</th>\n",
       "      <th>Type</th>\n",
       "      <th>Address</th>\n",
       "      <th>City</th>\n",
       "      <th>Contact</th>\n",
       "    </tr>\n",
       "  </thead>\n",
       "  <tbody>\n",
       "    <tr>\n",
       "      <th>0</th>\n",
       "      <td>1</td>\n",
       "      <td>Gonzales-Cochran</td>\n",
       "      <td>Supermarket</td>\n",
       "      <td>74347 Christopher Extensions\\nAndreamouth, OK ...</td>\n",
       "      <td>New Jessica</td>\n",
       "      <td>+1-600-220-0480</td>\n",
       "    </tr>\n",
       "    <tr>\n",
       "      <th>1</th>\n",
       "      <td>2</td>\n",
       "      <td>Nielsen, Johnson and Fuller</td>\n",
       "      <td>Grocery Store</td>\n",
       "      <td>91228 Hanson Stream\\nWelchtown, OR 27136</td>\n",
       "      <td>East Sheena</td>\n",
       "      <td>+1-925-283-8901x6297</td>\n",
       "    </tr>\n",
       "    <tr>\n",
       "      <th>2</th>\n",
       "      <td>3</td>\n",
       "      <td>Miller-Black</td>\n",
       "      <td>Supermarket</td>\n",
       "      <td>561 Martinez Point Suite 507\\nGuzmanchester, W...</td>\n",
       "      <td>Lake Jesusview</td>\n",
       "      <td>001-517-295-2206</td>\n",
       "    </tr>\n",
       "    <tr>\n",
       "      <th>3</th>\n",
       "      <td>4</td>\n",
       "      <td>Clark, Prince and Williams</td>\n",
       "      <td>Grocery Store</td>\n",
       "      <td>467 Bell Trail Suite 409\\nPort Jesus, IA 61188</td>\n",
       "      <td>Mendezmouth</td>\n",
       "      <td>556.944.8935x401</td>\n",
       "    </tr>\n",
       "    <tr>\n",
       "      <th>4</th>\n",
       "      <td>5</td>\n",
       "      <td>Coleman-Farley</td>\n",
       "      <td>Grocery Store</td>\n",
       "      <td>078 Matthew Creek Apt. 319\\nSaraborough, MA 53978</td>\n",
       "      <td>Valentineside</td>\n",
       "      <td>193.714.6577</td>\n",
       "    </tr>\n",
       "  </tbody>\n",
       "</table>\n",
       "</div>"
      ],
      "text/plain": [
       "   Provider_ID                         Name           Type  \\\n",
       "0            1             Gonzales-Cochran    Supermarket   \n",
       "1            2  Nielsen, Johnson and Fuller  Grocery Store   \n",
       "2            3                 Miller-Black    Supermarket   \n",
       "3            4   Clark, Prince and Williams  Grocery Store   \n",
       "4            5               Coleman-Farley  Grocery Store   \n",
       "\n",
       "                                             Address            City  \\\n",
       "0  74347 Christopher Extensions\\nAndreamouth, OK ...     New Jessica   \n",
       "1           91228 Hanson Stream\\nWelchtown, OR 27136     East Sheena   \n",
       "2  561 Martinez Point Suite 507\\nGuzmanchester, W...  Lake Jesusview   \n",
       "3     467 Bell Trail Suite 409\\nPort Jesus, IA 61188     Mendezmouth   \n",
       "4  078 Matthew Creek Apt. 319\\nSaraborough, MA 53978   Valentineside   \n",
       "\n",
       "                Contact  \n",
       "0       +1-600-220-0480  \n",
       "1  +1-925-283-8901x6297  \n",
       "2      001-517-295-2206  \n",
       "3      556.944.8935x401  \n",
       "4          193.714.6577  "
      ]
     },
     "execution_count": 31,
     "metadata": {},
     "output_type": "execute_result"
    }
   ],
   "source": [
    "psd.head()"
   ]
  },
  {
   "cell_type": "code",
   "execution_count": 32,
   "id": "4f15503f-c2ec-4a41-b7a4-6cf328e24324",
   "metadata": {},
   "outputs": [
    {
     "name": "stdout",
     "output_type": "stream",
     "text": [
      "<class 'pandas.core.frame.DataFrame'>\n",
      "RangeIndex: 1000 entries, 0 to 999\n",
      "Data columns (total 6 columns):\n",
      " #   Column       Non-Null Count  Dtype \n",
      "---  ------       --------------  ----- \n",
      " 0   Provider_ID  1000 non-null   int64 \n",
      " 1   Name         1000 non-null   object\n",
      " 2   Type         1000 non-null   object\n",
      " 3   Address      1000 non-null   object\n",
      " 4   City         1000 non-null   object\n",
      " 5   Contact      1000 non-null   object\n",
      "dtypes: int64(1), object(5)\n",
      "memory usage: 47.0+ KB\n"
     ]
    }
   ],
   "source": [
    "psd.info()"
   ]
  },
  {
   "cell_type": "code",
   "execution_count": 33,
   "id": "7473e8b2-c5a0-4094-86ef-561f447f2a75",
   "metadata": {},
   "outputs": [],
   "source": [
    "# No need to change datatype "
   ]
  },
  {
   "cell_type": "code",
   "execution_count": 34,
   "id": "05dbe8f2-946d-41ae-8327-a09c8092e155",
   "metadata": {},
   "outputs": [],
   "source": [
    "# Checking for null values and duplicates "
   ]
  },
  {
   "cell_type": "code",
   "execution_count": 35,
   "id": "3db3d769-cada-4bc5-b39b-79980249f7f3",
   "metadata": {},
   "outputs": [
    {
     "data": {
      "text/plain": [
       "Provider_ID    0\n",
       "Name           0\n",
       "Type           0\n",
       "Address        0\n",
       "City           0\n",
       "Contact        0\n",
       "dtype: int64"
      ]
     },
     "execution_count": 35,
     "metadata": {},
     "output_type": "execute_result"
    }
   ],
   "source": [
    "psd.isnull().sum()"
   ]
  },
  {
   "cell_type": "code",
   "execution_count": 36,
   "id": "0c9132c1-9fab-4b48-8b72-b12e9ef9d6a4",
   "metadata": {},
   "outputs": [],
   "source": [
    "# no null values"
   ]
  },
  {
   "cell_type": "code",
   "execution_count": 37,
   "id": "d53ede96-eb96-4cde-bdc6-b95a16c13f0b",
   "metadata": {},
   "outputs": [
    {
     "data": {
      "text/plain": [
       "0"
      ]
     },
     "execution_count": 37,
     "metadata": {},
     "output_type": "execute_result"
    }
   ],
   "source": [
    "psd.duplicated().sum()"
   ]
  },
  {
   "cell_type": "code",
   "execution_count": 38,
   "id": "72b121b9-8013-437b-ab13-ecc267e9f572",
   "metadata": {},
   "outputs": [],
   "source": [
    "# No duplicates"
   ]
  },
  {
   "cell_type": "code",
   "execution_count": 39,
   "id": "fb5e5918-8a21-43d8-ab7e-17b06c554022",
   "metadata": {},
   "outputs": [],
   "source": [
    "# Saving it in csv format "
   ]
  },
  {
   "cell_type": "code",
   "execution_count": 40,
   "id": "0898d466-f970-45eb-b75e-5a866c93ffad",
   "metadata": {},
   "outputs": [],
   "source": [
    "psd.to_csv('Providers_data_Pre.csv',index=False)"
   ]
  },
  {
   "cell_type": "markdown",
   "id": "b0151991-d26d-4754-a9b7-93eb36524ba6",
   "metadata": {},
   "source": [
    "## For Receiver's data"
   ]
  },
  {
   "cell_type": "code",
   "execution_count": 41,
   "id": "0bd06dda-9e82-4edf-b07d-045e258ca8ba",
   "metadata": {},
   "outputs": [],
   "source": [
    "rd = pd.read_csv('receivers_data.csv')"
   ]
  },
  {
   "cell_type": "code",
   "execution_count": 42,
   "id": "4cb49cfa-dc50-403b-b0df-d6b8ca8e329f",
   "metadata": {},
   "outputs": [
    {
     "data": {
      "text/html": [
       "<div>\n",
       "<style scoped>\n",
       "    .dataframe tbody tr th:only-of-type {\n",
       "        vertical-align: middle;\n",
       "    }\n",
       "\n",
       "    .dataframe tbody tr th {\n",
       "        vertical-align: top;\n",
       "    }\n",
       "\n",
       "    .dataframe thead th {\n",
       "        text-align: right;\n",
       "    }\n",
       "</style>\n",
       "<table border=\"1\" class=\"dataframe\">\n",
       "  <thead>\n",
       "    <tr style=\"text-align: right;\">\n",
       "      <th></th>\n",
       "      <th>Receiver_ID</th>\n",
       "      <th>Name</th>\n",
       "      <th>Type</th>\n",
       "      <th>City</th>\n",
       "      <th>Contact</th>\n",
       "    </tr>\n",
       "  </thead>\n",
       "  <tbody>\n",
       "    <tr>\n",
       "      <th>0</th>\n",
       "      <td>1</td>\n",
       "      <td>Donald Gomez</td>\n",
       "      <td>Shelter</td>\n",
       "      <td>Port Carlburgh</td>\n",
       "      <td>(955)922-5295</td>\n",
       "    </tr>\n",
       "    <tr>\n",
       "      <th>1</th>\n",
       "      <td>2</td>\n",
       "      <td>Laurie Ramos</td>\n",
       "      <td>Individual</td>\n",
       "      <td>Lewisburgh</td>\n",
       "      <td>761.042.1570</td>\n",
       "    </tr>\n",
       "    <tr>\n",
       "      <th>2</th>\n",
       "      <td>3</td>\n",
       "      <td>Ashley Mckee</td>\n",
       "      <td>NGO</td>\n",
       "      <td>South Randalltown</td>\n",
       "      <td>691-023-0094x856</td>\n",
       "    </tr>\n",
       "    <tr>\n",
       "      <th>3</th>\n",
       "      <td>4</td>\n",
       "      <td>Erika Rose</td>\n",
       "      <td>NGO</td>\n",
       "      <td>South Shaneville</td>\n",
       "      <td>8296491111</td>\n",
       "    </tr>\n",
       "    <tr>\n",
       "      <th>4</th>\n",
       "      <td>5</td>\n",
       "      <td>John Romero</td>\n",
       "      <td>Individual</td>\n",
       "      <td>Bakerport</td>\n",
       "      <td>067.491.0154</td>\n",
       "    </tr>\n",
       "  </tbody>\n",
       "</table>\n",
       "</div>"
      ],
      "text/plain": [
       "   Receiver_ID          Name        Type               City           Contact\n",
       "0            1  Donald Gomez     Shelter     Port Carlburgh     (955)922-5295\n",
       "1            2  Laurie Ramos  Individual         Lewisburgh      761.042.1570\n",
       "2            3  Ashley Mckee         NGO  South Randalltown  691-023-0094x856\n",
       "3            4    Erika Rose         NGO   South Shaneville        8296491111\n",
       "4            5   John Romero  Individual          Bakerport      067.491.0154"
      ]
     },
     "execution_count": 42,
     "metadata": {},
     "output_type": "execute_result"
    }
   ],
   "source": [
    "rd.head()"
   ]
  },
  {
   "cell_type": "code",
   "execution_count": 43,
   "id": "53ed357e-5f2d-4416-b034-2f38bf0f5471",
   "metadata": {},
   "outputs": [
    {
     "name": "stdout",
     "output_type": "stream",
     "text": [
      "<class 'pandas.core.frame.DataFrame'>\n",
      "RangeIndex: 1000 entries, 0 to 999\n",
      "Data columns (total 5 columns):\n",
      " #   Column       Non-Null Count  Dtype \n",
      "---  ------       --------------  ----- \n",
      " 0   Receiver_ID  1000 non-null   int64 \n",
      " 1   Name         1000 non-null   object\n",
      " 2   Type         1000 non-null   object\n",
      " 3   City         1000 non-null   object\n",
      " 4   Contact      1000 non-null   object\n",
      "dtypes: int64(1), object(4)\n",
      "memory usage: 39.2+ KB\n"
     ]
    }
   ],
   "source": [
    "rd.info()"
   ]
  },
  {
   "cell_type": "code",
   "execution_count": 44,
   "id": "8b5b5756-3bbf-419a-9b14-2d823af49230",
   "metadata": {},
   "outputs": [],
   "source": [
    "# Checking for null values "
   ]
  },
  {
   "cell_type": "code",
   "execution_count": 45,
   "id": "ba64b378-7d8f-4563-8ab0-95f505920727",
   "metadata": {},
   "outputs": [
    {
     "data": {
      "text/plain": [
       "Receiver_ID    0\n",
       "Name           0\n",
       "Type           0\n",
       "City           0\n",
       "Contact        0\n",
       "dtype: int64"
      ]
     },
     "execution_count": 45,
     "metadata": {},
     "output_type": "execute_result"
    }
   ],
   "source": [
    "rd.isnull().sum()"
   ]
  },
  {
   "cell_type": "code",
   "execution_count": 46,
   "id": "816b30f7-b78d-4a93-a0dd-c6425c24aca5",
   "metadata": {},
   "outputs": [],
   "source": [
    "# No null values "
   ]
  },
  {
   "cell_type": "code",
   "execution_count": 47,
   "id": "65bae1db-c5f5-4f72-a8c5-bc2e0eafa82a",
   "metadata": {},
   "outputs": [],
   "source": [
    "# Checking for duplicates "
   ]
  },
  {
   "cell_type": "code",
   "execution_count": 48,
   "id": "cb5dc532-c832-4aea-85e8-5f73689afcb8",
   "metadata": {},
   "outputs": [
    {
     "data": {
      "text/plain": [
       "0"
      ]
     },
     "execution_count": 48,
     "metadata": {},
     "output_type": "execute_result"
    }
   ],
   "source": [
    "rd.duplicated().sum()"
   ]
  },
  {
   "cell_type": "code",
   "execution_count": 49,
   "id": "85250e46-d653-47c6-b468-3ef5271cde2d",
   "metadata": {},
   "outputs": [],
   "source": [
    "# No duplicates"
   ]
  },
  {
   "cell_type": "code",
   "execution_count": 50,
   "id": "2a59d7b5-1408-4f31-b09f-177a38e4610c",
   "metadata": {},
   "outputs": [],
   "source": [
    "# Saving it in csv format "
   ]
  },
  {
   "cell_type": "code",
   "execution_count": 51,
   "id": "4ce75ac9-4a76-4ef0-b96f-66a6feef3635",
   "metadata": {},
   "outputs": [],
   "source": [
    "rd.to_csv('Receivers_data_Pre.csv',index=False)"
   ]
  },
  {
   "cell_type": "code",
   "execution_count": null,
   "id": "b7975ff1-93b1-45ce-a716-38102998d1be",
   "metadata": {},
   "outputs": [],
   "source": []
  }
 ],
 "metadata": {
  "kernelspec": {
   "display_name": "Python (py310)",
   "language": "python",
   "name": "py310"
  },
  "language_info": {
   "codemirror_mode": {
    "name": "ipython",
    "version": 3
   },
   "file_extension": ".py",
   "mimetype": "text/x-python",
   "name": "python",
   "nbconvert_exporter": "python",
   "pygments_lexer": "ipython3",
   "version": "3.10.18"
  }
 },
 "nbformat": 4,
 "nbformat_minor": 5
}
